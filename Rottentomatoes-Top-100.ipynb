{
 "cells": [
  {
   "cell_type": "markdown",
   "metadata": {},
   "source": [
    "# Rotten tomatoes, Top 100 Movies\n",
    "\n",
    "**link:** https://www.rottentomatoes.com/top/bestofrt/\n",
    "\n",
    "**Rotten Tomatoes** is an American review-aggregation website for film and television. The company was launched in August 1998 by three undergraduate students at the University of California, Berkeley: Senh Duong, Patrick Y. Lee, and Stephen Wang. Although the name \"Rotten Tomatoes\" connects to the practice of audiences throwing rotten tomatoes when disapproving of a poor stage performance, the original inspiration comes from a scene featuring tomatoes in the Canadian film Léolo (1992)."
   ]
  },
  {
   "cell_type": "code",
   "execution_count": 2,
   "metadata": {},
   "outputs": [],
   "source": [
    "from bs4 import BeautifulSoup\n",
    "import requests"
   ]
  },
  {
   "cell_type": "code",
   "execution_count": 3,
   "metadata": {
    "scrolled": true
   },
   "outputs": [],
   "source": [
    "url = requests.get('https://www.rottentomatoes.com/top/bestofrt/')"
   ]
  },
  {
   "cell_type": "code",
   "execution_count": 4,
   "metadata": {},
   "outputs": [],
   "source": [
    "soup = BeautifulSoup(url.text, 'lxml')"
   ]
  },
  {
   "cell_type": "code",
   "execution_count": 5,
   "metadata": {},
   "outputs": [],
   "source": [
    "# print(soup.prettify())"
   ]
  },
  {
   "cell_type": "code",
   "execution_count": 6,
   "metadata": {},
   "outputs": [],
   "source": [
    "table = soup.find('table', class_='table')"
   ]
  },
  {
   "cell_type": "code",
   "execution_count": 7,
   "metadata": {},
   "outputs": [],
   "source": [
    "request_movie = requests.get('https://www.rottentomatoes.com' + table.find_all('tr')[36].a['href'])\n",
    "movie_soup = BeautifulSoup(request_movie.text, 'lxml')"
   ]
  },
  {
   "cell_type": "code",
   "execution_count": 8,
   "metadata": {},
   "outputs": [],
   "source": [
    "tomatometre = movie_soup.find_all('span', class_='mop-ratings-wrap__percentage')[0].text.strip()\n",
    "audience_rating = movie_soup.find_all('span', class_='mop-ratings-wrap__percentage')[1].text.strip()"
   ]
  },
  {
   "cell_type": "code",
   "execution_count": 9,
   "metadata": {},
   "outputs": [
    {
     "name": "stdout",
     "output_type": "stream",
     "text": [
      "Stanley Donen, Gene Kelly\n",
      "102\n"
     ]
    }
   ],
   "source": [
    "for label in movie_soup.find_all('div', 'meta-label subtle'):\n",
    "    if label.text == 'Directed By:':\n",
    "        director_tag = movie_soup.find_all('div', 'meta-value')[movie_soup.find_all('div', 'meta-label subtle').index(label)]\n",
    "        director = ''\n",
    "        for a in director_tag.find_all('a'):\n",
    "            director += a.text + ', '\n",
    "        print(director.strip(', '))\n",
    "        \n",
    "    if label.text == 'Runtime:':\n",
    "        runtime = movie_soup.find_all('div', 'meta-value')[movie_soup.find_all('div', 'meta-label subtle').index(label)].text\n",
    "        print(runtime.strip().split(' ')[0])"
   ]
  },
  {
   "cell_type": "code",
   "execution_count": 10,
   "metadata": {
    "scrolled": true
   },
   "outputs": [],
   "source": [
    "import pandas as pd\n",
    "\n",
    "RowList = []\n",
    "\n",
    "for movie in table.find_all('tr')[1:]:\n",
    "    rank = movie.td.text.strip('.')\n",
    "    movie_title = movie.a.text.split('(')[0].strip()\n",
    "    movie_year = movie.a.text.strip()[-5:-1]\n",
    "    noofreviews = movie.find('td', class_='right hidden-xs').text \n",
    "    movie_link = 'https://www.rottentomatoes.com' + movie.a['href']\n",
    "    \n",
    "    request_movie = requests.get('https://www.rottentomatoes.com' + movie.a['href'])\n",
    "    movie_soup = BeautifulSoup(request_movie.text, 'lxml')\n",
    "    \n",
    "    tomatometre = movie_soup.find_all('span', class_='mop-ratings-wrap__percentage')[0].text.strip()\n",
    "    audience_rating = movie_soup.find_all('span', class_='mop-ratings-wrap__percentage')[1].text.strip()\n",
    "    \n",
    "    director = ''\n",
    "    runtime = ''\n",
    "    \n",
    "    for label in movie_soup.find_all('div', 'meta-label subtle'):\n",
    "        if label.text == 'Directed By:':\n",
    "            director_tag = movie_soup.find_all('div', 'meta-value')[movie_soup.find_all('div', 'meta-label subtle').index(label)]\n",
    "            director = ''\n",
    "            for a in director_tag.find_all('a'):\n",
    "                director += a.text + ', '\n",
    "            director = director.strip(', ')\n",
    "\n",
    "        if label.text == 'Runtime:':\n",
    "            runtime = movie_soup.find_all('div', 'meta-value')[movie_soup.find_all('div', 'meta-label subtle').index(label)].text\n",
    "            runtime = runtime.strip().split(' ')[0]\n",
    "    \n",
    "    \n",
    "    # print([rank, movie_title, movie_year, noofreviews, director, movie_link, tomatometre, audience_rating, runtime])\n",
    "    RowList.append([rank, movie_title, movie_year, noofreviews, director, movie_link, tomatometre, audience_rating, runtime])"
   ]
  },
  {
   "cell_type": "code",
   "execution_count": 11,
   "metadata": {},
   "outputs": [],
   "source": [
    "pd.DataFrame(RowList, columns = ['Rank', 'Movie title', 'Release year', \n",
    "                                 'No of reviews', 'Director', 'Movie link', \n",
    "                                 'Tomatometer', 'Audience ratings', 'Run time(Minutes)']).to_csv('RottenTomatoesTop100.csv', index=False)"
   ]
  }
 ],
 "metadata": {
  "kernelspec": {
   "display_name": "Python 3",
   "language": "python",
   "name": "python3"
  },
  "language_info": {
   "codemirror_mode": {
    "name": "ipython",
    "version": 3
   },
   "file_extension": ".py",
   "mimetype": "text/x-python",
   "name": "python",
   "nbconvert_exporter": "python",
   "pygments_lexer": "ipython3",
   "version": "3.7.4"
  }
 },
 "nbformat": 4,
 "nbformat_minor": 2
}
